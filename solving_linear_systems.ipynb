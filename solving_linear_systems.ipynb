{
 "cells": [
  {
   "cell_type": "markdown",
   "metadata": {},
   "source": [
    "# Solving Simple Linear Systems Using Python\n",
    "\n",
    "## Objective\n",
    "+ Learn how to solve linear systems using Python.\n",
    "\n",
    "## Where do linear systems come from?\n",
    "Linear systems of equations occur in every single problem of statics, in particular, and mechanics, in general.\n",
    "Let us use [Problem 3.D.12](https://youtu.be/4mKf48zp-PY) of our lecturebook as a specific example of where the linear system comes from.\n",
    "Please watch the video.\n",
    "Using the static equilibrium equations, we find three equations containing three uknowns (assume that $W=1$).\n",
    "In particular, we have:\n",
    "$$\n",
    "\\begin{array}{ccc}\n",
    "-0.63\\cdot F_{CA} + 0\\cdot F_{CB} + 0.79\\cdot F_{CD} &=& 0,\\\\\n",
    "0.63\\cdot F_{CA} + 0.8\\cdot F_{CB} + 0.20\\cdot F_{CD} &=& 1,\\\\\n",
    "0.43\\cdot F_{CA} - 0.6\\cdot F_{CB} + 0.59\\cdot F_{CD} &=& 0.\n",
    "\\end{array}\n",
    "$$\n",
    "At this point, you need to dust off your linear algebra knowledge and notice that this system corresponds can be written using a matrix-vector multiplication:\n",
    "$$\n",
    "\\left(\n",
    "\\begin{array}{ccc}\n",
    "-0.63 & 0 & 0.79\\\\\n",
    "0.63 & 0.8 & 0.2\\\\\n",
    "0.43 & -0.6 & 0.59\n",
    "\\end{array}\n",
    "\\right) \\cdot \n",
    "\\left(\n",
    "\\begin{array}{c}\n",
    "F_{CA}\\\\\n",
    "F_{CB}\\\\\n",
    "F_{CD}\n",
    "\\end{array}\n",
    "\\right)=\n",
    "\\left(\n",
    "\\begin{array}{c}\n",
    "0\\\\\n",
    "1\\\\\n",
    "0\n",
    "\\end{array}\n",
    "\\right).\n",
    "$$\n",
    "We clearly see that this is a matrix-vector equation of the form:\n",
    "$$\n",
    "\\mathbf{A} \\cdot \\mathbf{x} = \\mathbf{b}.\n",
    "$$\n",
    "Let's set this system up in Python."
   ]
  },
  {
   "cell_type": "code",
   "execution_count": 1,
   "metadata": {
    "collapsed": false
   },
   "outputs": [
    {
     "name": "stdout",
     "output_type": "stream",
     "text": [
      "Matrix A:\n",
      "[[-0.63  0.    0.79]\n",
      " [ 0.63  0.8   0.2 ]\n",
      " [ 0.43 -0.6   0.59]]\n",
      "Vector b:\n",
      "[0 1 0]\n"
     ]
    }
   ],
   "source": [
    "# Load the necessary modules - Always do this before you start\n",
    "import numpy as np # Module for numerical linear algebra\n",
    "# Create the matrix A\n",
    "A = np.array([[-0.63, 0, 0.79],\n",
    "              [0.63, 0.8, 0.2],\n",
    "              [0.43, -0.6, 0.59]])\n",
    "b = np.array([0, 1, 0])\n",
    "print('Matrix A:')\n",
    "print(A)\n",
    "print('Vector b:')\n",
    "print(b)"
   ]
  },
  {
   "cell_type": "markdown",
   "metadata": {},
   "source": [
    "## Solving the linear system\n",
    "The solution of the linear system is:\n",
    "$$\n",
    "\\mathbf{x} = \\mathbf{A}^{-1}\\mathbf{b},\n",
    "$$\n",
    "if the matrix inverse, $\\mathbf{A}^{-1}$, exists.\n",
    "This will be the case when you have a *nice* problem.\n",
    "The problem is *nice* when:\n",
    "+ you have the same number of uknown as equations, i.e., the matrix $\\mathbf{A}$ is a square matrix.\n",
    "+ the [determinant](https://en.wikipedia.org/wiki/Determinant) of the matrix $\\mathbf{A}$ is not zero.\n",
    "\n",
    "Despite the simplicity of the solution using the matrix inverse, **YOU SHOULD NEVER USE**.\n",
    "I repeat: **YOU SHOULD NEVER USE THE MATRIX INVERSE TO SOLVE A LINEAR SYSTEM**.\n",
    "**NEVER!!!**\n",
    "Why? Because you will get larger numerical errors than doing the right thing.\n",
    "What is the right thing? This is a question for an other course.\n",
    "In Python, you just need to do this:"
   ]
  },
  {
   "cell_type": "code",
   "execution_count": 2,
   "metadata": {
    "collapsed": false
   },
   "outputs": [
    {
     "name": "stdout",
     "output_type": "stream",
     "text": [
      "Solution x:\n",
      "[0.50246995 0.75412895 0.40070388]\n"
     ]
    }
   ],
   "source": [
    "x = np.linalg.solve(A, b)\n",
    "print('Solution x:')\n",
    "print(x)"
   ]
  }
 ],
 "metadata": {
  "anaconda-cloud": {},
  "kernelspec": {
   "display_name": "Python [conda env:anaconda]",
   "language": "python",
   "name": "conda-env-anaconda-py"
  },
  "language_info": {
   "codemirror_mode": {
    "name": "ipython",
    "version": 2
   },
   "file_extension": ".py",
   "mimetype": "text/x-python",
   "name": "python",
   "nbconvert_exporter": "python",
   "pygments_lexer": "ipython2",
   "version": "2.7.14"
  }
 },
 "nbformat": 4,
 "nbformat_minor": 1
}

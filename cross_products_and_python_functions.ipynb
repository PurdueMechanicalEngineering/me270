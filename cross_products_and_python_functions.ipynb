{
 "cells": [
  {
   "cell_type": "markdown",
   "metadata": {},
   "source": [
    "# Taking Cross Products in Python - Python Functions\n",
    "\n",
    "## Objective\n",
    "+ Learn how to define a Python function.\n",
    "+ Define a Python function that computes the cross product of two Cartesian vectors.\n",
    "\n",
    "Cross products are quite prone to numerical errors when carried out by hand.\n",
    "Let us define a Python function that can take cross products between two vectors with Cartesian descriptions:\n",
    "$$\n",
    "\\begin{array}{ccc}\n",
    "\\vec{r_1} &=& x_1\\hat{i} + y_1\\hat{j} + z_1\\hat{k},\\\\\n",
    "\\vec{r_2} &=& x_2\\hat{i} + y_2\\hat{j} + z_2\\hat{k}\n",
    "\\end{array}\n",
    "$$\n",
    "The defintion of the cross product is:\n",
    "$$\n",
    "\\vec{r_1}\\times \\vec{r_2} = \\left|\n",
    "\\begin{array}{ccc}\n",
    "\\hat{i} & \\hat{j} & \\hat{k}\\\\\n",
    "x_1 & y_1 & z_1\\\\\n",
    "x_2 & y_2 & z_2\n",
    "\\end{array}\n",
    "\\right|=\n",
    "(y_1z_2 - y_2z_1)\\hat{i} - (x_1z_2 - x_2z_1)\\hat{j} + (x_1y_2 - x_2y_1)\\hat{k}.\n",
    "$$\n",
    "Let us define this function in Python."
   ]
  },
  {
   "cell_type": "code",
   "execution_count": 1,
   "metadata": {
    "collapsed": true
   },
   "outputs": [],
   "source": [
    "import numpy as np\n",
    "\n",
    "def cross_product(r1, r2):\n",
    "    \"\"\"\n",
    "    Compute the cross product between 3D vectors r1 and r2.\n",
    "    \n",
    "    :param r1:   A 3D vector.\n",
    "    :param r2:   A 3D vector.\n",
    "    :returns:    A 3D vector representing the cross product of r1 and r2.\n",
    "    \"\"\"\n",
    "    result = np.array([0, 0, 0]) # The result of the calculation\n",
    "    result[0] = r1[1] * r2[2] - r1[2] * r2[1]    # The i component of the cross product\n",
    "    result[1] = -(r1[0] * r2[2] - r1[2] * r2[0]) # The j component of the cross product\n",
    "    result[2] = r1[0] * r2[1] - r1[1] * r2[0]    # The k component of the cross product\n",
    "    return result"
   ]
  },
  {
   "cell_type": "markdown",
   "metadata": {},
   "source": [
    "Let us try it with [Problem 4.B.4](https://youtu.be/2n7xHWWuvlQ) of the lecturebook where we have to calculate the moment $\\vec{M_O}$ of the force $\\vec{F_{AB}}$ about point $O$ in two different ways."
   ]
  },
  {
   "cell_type": "code",
   "execution_count": 2,
   "metadata": {
    "collapsed": false
   },
   "outputs": [
    {
     "name": "stdout",
     "output_type": "stream",
     "text": [
      "F_AB = [ 0.36  0.68 -0.91] in kN\n",
      "r_OA = [1.6 0.  2. ] in m\n",
      "r_OB = [2.4 1.5 0. ] in m\n"
     ]
    }
   ],
   "source": [
    "# Some of the data we need for the calculation\n",
    "# The force vector\n",
    "F_AB = np.array([0.36, 0.68, -0.91])  # kN\n",
    "print('F_AB = ' + str(F_AB) + ' in kN')\n",
    "# The position vector r_OA\n",
    "r_OA = np.array([1.6, 0., 2.]) # m\n",
    "print('r_OA = ' + str(r_OA) + ' in m')\n",
    "# The position vector r_OB\n",
    "r_OB = np.array([2.4, 1.5, 0]) # m\n",
    "print('r_OB = ' + str(r_OB) + ' in m')"
   ]
  },
  {
   "cell_type": "code",
   "execution_count": 3,
   "metadata": {
    "collapsed": false
   },
   "outputs": [
    {
     "name": "stdout",
     "output_type": "stream",
     "text": [
      "M_O_b = [-1  2  1] in kN-m\n"
     ]
    }
   ],
   "source": [
    "# b) Moment about O using r_OA:\n",
    "M_O_b = cross_product(r_OA, F_AB)\n",
    "print('M_O_b = ' + str(M_O_b) + ' in kN-m')"
   ]
  },
  {
   "cell_type": "code",
   "execution_count": 4,
   "metadata": {
    "collapsed": false
   },
   "outputs": [
    {
     "name": "stdout",
     "output_type": "stream",
     "text": [
      "M_O_c = [-1  2  1] in kN-m\n"
     ]
    }
   ],
   "source": [
    "# c) Moment about O using r_OB:\n",
    "M_O_c = cross_product(r_OB, F_AB)\n",
    "print('M_O_c = ' + str(M_O_c) + ' in kN-m')"
   ]
  },
  {
   "cell_type": "markdown",
   "metadata": {},
   "source": [
    "... and we see that the two ways of calculating the moment give identical results."
   ]
  }
 ],
 "metadata": {
  "anaconda-cloud": {},
  "kernelspec": {
   "display_name": "Python [conda env:anaconda]",
   "language": "python",
   "name": "conda-env-anaconda-py"
  },
  "language_info": {
   "codemirror_mode": {
    "name": "ipython",
    "version": 2
   },
   "file_extension": ".py",
   "mimetype": "text/x-python",
   "name": "python",
   "nbconvert_exporter": "python",
   "pygments_lexer": "ipython2",
   "version": "2.7.14"
  }
 },
 "nbformat": 4,
 "nbformat_minor": 1
}
